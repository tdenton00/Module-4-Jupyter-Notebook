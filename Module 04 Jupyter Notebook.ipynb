{
 "cells": [
  {
   "cell_type": "code",
   "execution_count": null,
   "metadata": {},
   "outputs": [],
   "source": [
    "#11.1\n",
    "from zoo import hours\n",
    "hours()"
   ]
  },
  {
   "cell_type": "code",
   "execution_count": null,
   "metadata": {},
   "outputs": [],
   "source": [
    "#11.2\n",
    "from zoo import hours as menagerie \n",
    "menagerie()"
   ]
  },
  {
   "cell_type": "code",
   "execution_count": null,
   "metadata": {},
   "outputs": [],
   "source": [
    "#16.8\n",
    "from sqlalchemy import create_engine, MetaData, Table, select\n",
    "\n",
    "\n",
    "engine = create_engine('sqlite:///books.db')\n",
    "metadata = MetaData(bind=engine)\n",
    "books_table = Table('books', metadata, autoload=True)\n",
    "\n",
    "\n",
    "with engine.connect() as connection:\n",
    "    query = select([books_table.c.title]).order_by(books_table.c.title)\n",
    "    result = connection.execute(query)\n",
    "    for row in result:\n",
    "        print(row['title'])\n",
    "\n"
   ]
  }
 ],
 "metadata": {
  "kernelspec": {
   "display_name": "Python 3",
   "language": "python",
   "name": "python3"
  },
  "language_info": {
   "codemirror_mode": {
    "name": "ipython",
    "version": 3
   },
   "file_extension": ".py",
   "mimetype": "text/x-python",
   "name": "python",
   "nbconvert_exporter": "python",
   "pygments_lexer": "ipython3",
   "version": "3.12.6"
  }
 },
 "nbformat": 4,
 "nbformat_minor": 2
}
